{
 "cells": [
  {
   "cell_type": "markdown",
   "metadata": {},
   "source": [
    "# Actividad 2\n",
    "# Usos reales de filtros espaciales y morfológicos\n",
    "\n",
    "## Autores:\n",
    "- José Antonio Betances Vargas\n",
    "- Jacobo Farray Rodríguez\n",
    "- Pedro Alejandro González Morales\n",
    "- Jean Michael Urday García\n",
    "\n",
    "Ausente: José Enrique Cabrera Pérez\n",
    "\n",
    "## Fecha de reuniones:\n",
    "\n",
    "| Fecha | J. A. Betance Vargas | J. Farray Rodríguez | P. A. González Morales | J. M. Urday Garcia | J. E. Cabrera Pérez |\n",
    "| -- | -- | -- | -- | -- | -- |\n",
    "| 19.05.2021 | Ok | Ok | Ok | Ok | No |\n",
    "| 22.05.2021 |Ok | Ok | Ok | Ok | No |\n",
    "| 24.05.2021 |Ok | Ok | Ok | Ok | No |\n",
    "| 26.05.2021 |Ok | Ok | Ok | Ok | No |"
   ]
  },
  {
   "cell_type": "markdown",
   "metadata": {},
   "source": [
    "## Descripción del problema\n",
    "\n",
    "El propósito de este notebook es aplicar operaciones morfológicos y/o filtros espaciales sobre imágenes de documentos escaneados o fotografiados con la intención de eliminar anomalías, sombras en este caso, y mejorar su legibilidad."
   ]
  },
  {
   "cell_type": "markdown",
   "metadata": {},
   "source": [
    "## Solución propuesta\n",
    "\n",
    "Se utiliza como referencia el código de Stackoverflow (2017).\n",
    "\n",
    "La solución propuesta es:\n",
    "   1. Separa la imagen en sus canales RGB.\n",
    "   2. Aplicar una operación morfológica de dilatación sobre cada canal para dilatar el fondo y así remover el texto. \n",
    "   3. Aplicar un filtro espacial de mediana al resultado para difuminar el efecto de la dilatación y elimiar ruido impulsivo, generando de esta manera una imagen de fondo.\n",
    "   4. Restar a cada canal su imagen de fondo y normalizar el resultado.\n",
    "   5. Reconstruir la imagen a color RGB a partir de las tres imagenes normalizadas.\n",
    "   \n",
    "A continución se muestra el código e indican los pasos relevantes."
   ]
  },
  {
   "cell_type": "code",
   "execution_count": null,
   "metadata": {},
   "outputs": [],
   "source": [
    "import cv2\n",
    "import numpy as np\n",
    "from IPython.display import display\n",
    "from PIL import Image"
   ]
  },
  {
   "cell_type": "code",
   "execution_count": null,
   "metadata": {
    "scrolled": false
   },
   "outputs": [],
   "source": [
    "def main(imagePath):\n",
    "    img = cv2.imread(imagePath)\n",
    "    \n",
    "    rgb_planes = cv2.split(img)  # 1. Separar\n",
    "\n",
    "    kernel = np.ones((5,5))\n",
    "    result_norm_planes = []\n",
    "    for plane in rgb_planes:\n",
    "        dilated_img = cv2.dilate(plane, kernel)  # 2. Operación morfológica\n",
    "        bg_img = cv2.medianBlur(dilated_img, 71) # 3. Filtro espacial\n",
    "        # 4. Resta y normalización\n",
    "        diff_img = 255 - cv2.absdiff(plane, bg_img)\n",
    "        norm_img = cv2.normalize(diff_img,None, alpha=0, beta=255, norm_type=cv2.NORM_MINMAX, dtype=cv2.CV_8UC1)\n",
    "        \n",
    "        result_norm_planes.append(norm_img)\n",
    "\n",
    "    result_norm = cv2.merge(result_norm_planes) # 5. Reconstrucción\n",
    "    imagesFinal = cv2.cvtColor(np.hstack([img,result_norm]) ,cv2.COLOR_BGR2RGB)\n",
    "    \n",
    "    display(Image.fromarray(imagesFinal))\n",
    "    \n"
   ]
  },
  {
   "cell_type": "code",
   "execution_count": null,
   "metadata": {
    "scrolled": false
   },
   "outputs": [],
   "source": [
    "main('Foto3.jpg')\n",
    "main('Foto4.jpg')\n",
    "main('Foto5.jpg')\n",
    "main('Foto7.jpg') # Stackoverflow (2017)"
   ]
  },
  {
   "cell_type": "markdown",
   "metadata": {},
   "source": [
    "## Conclusiones\n",
    "\n",
    "Se ha trabajado con una operación morfológica y un filtro espacial para corregir imagenes de documentos. \n",
    "\n",
    "Para mejorar la calidad de los resultados, se han optimizado los parámetros libres de la dilatación y del filtro de mediana usando varias imágenes de prueba."
   ]
  },
  {
   "cell_type": "markdown",
   "metadata": {},
   "source": [
    "## Limitaciones del algoritmo\n",
    "\n",
    "La solución propuesta se puede mejorar en aspectos como:\n",
    "- Segmentación de la imagen para separar texto y dibujos del fondo.\n",
    "- Mejorar el color\n",
    "\n",
    "Como ejemplos ofrecemos estas 2 imagenes. \n",
    "\n",
    "En esta primera foto, el problema está en que la sombra tiene internamente gradientes y el algoritmo no corrige bien los bordes."
   ]
  },
  {
   "cell_type": "code",
   "execution_count": null,
   "metadata": {},
   "outputs": [],
   "source": [
    "main('Foto1.jpg')"
   ]
  },
  {
   "cell_type": "markdown",
   "metadata": {},
   "source": [
    "En esta segunda imagen, el algoritmo presenta problemas con manchas complejas."
   ]
  },
  {
   "cell_type": "code",
   "execution_count": null,
   "metadata": {},
   "outputs": [],
   "source": [
    "main('Foto6.jpg')"
   ]
  },
  {
   "cell_type": "markdown",
   "metadata": {},
   "source": [
    "Como posibles soluciones se plantea hacer una detección de bordes y/o una segmentación previa de la imagen para detectar estas estructuras."
   ]
  },
  {
   "cell_type": "markdown",
   "metadata": {},
   "source": [
    "## Referencias\n",
    "\n",
    "Stackoverflow (2017). How to remove shadow from scanned images using OpenCV? En *Stackoverflow* Recuperado el 18 de mayo de 2021 en https://stackoverflow.com/questions/44752240/how-to-remove-shadow-from-scanned-images-using-opencv"
   ]
  }
 ],
 "metadata": {
  "kernelspec": {
   "display_name": "Python 3",
   "language": "python",
   "name": "python3"
  },
  "language_info": {
   "codemirror_mode": {
    "name": "ipython",
    "version": 3
   },
   "file_extension": ".py",
   "mimetype": "text/x-python",
   "name": "python",
   "nbconvert_exporter": "python",
   "pygments_lexer": "ipython3",
   "version": "3.8.5"
  },
  "varInspector": {
   "cols": {
    "lenName": 16,
    "lenType": 16,
    "lenVar": 40
   },
   "kernels_config": {
    "python": {
     "delete_cmd_postfix": "",
     "delete_cmd_prefix": "del ",
     "library": "var_list.py",
     "varRefreshCmd": "print(var_dic_list())"
    },
    "r": {
     "delete_cmd_postfix": ") ",
     "delete_cmd_prefix": "rm(",
     "library": "var_list.r",
     "varRefreshCmd": "cat(var_dic_list()) "
    }
   },
   "position": {
    "height": "144.413px",
    "left": "778.485px",
    "right": "20px",
    "top": "119px",
    "width": "350px"
   },
   "types_to_exclude": [
    "module",
    "function",
    "builtin_function_or_method",
    "instance",
    "_Feature"
   ],
   "window_display": false
  }
 },
 "nbformat": 4,
 "nbformat_minor": 5
}
